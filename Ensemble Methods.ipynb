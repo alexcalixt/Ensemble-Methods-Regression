{
 "cells": [
  {
   "cell_type": "code",
   "execution_count": 1,
   "id": "85e3416d",
   "metadata": {},
   "outputs": [],
   "source": [
    "import pandas as pd\n",
    "import numpy as np"
   ]
  },
  {
   "cell_type": "markdown",
   "id": "c928fe5e",
   "metadata": {},
   "source": [
    "### Import Data"
   ]
  },
  {
   "cell_type": "code",
   "execution_count": 2,
   "id": "06f86b75",
   "metadata": {},
   "outputs": [],
   "source": [
    "data = pd.read_excel('Data_Train--Delivery.xlsx',usecols = [0,1,2,3,4,5,6,7])"
   ]
  },
  {
   "cell_type": "markdown",
   "id": "da3a53c6",
   "metadata": {},
   "source": [
    "### EDA & Preprocessing"
   ]
  },
  {
   "cell_type": "code",
   "execution_count": 3,
   "id": "f1a236ba",
   "metadata": {
    "scrolled": true
   },
   "outputs": [
    {
     "data": {
      "text/html": [
       "<div>\n",
       "<style scoped>\n",
       "    .dataframe tbody tr th:only-of-type {\n",
       "        vertical-align: middle;\n",
       "    }\n",
       "\n",
       "    .dataframe tbody tr th {\n",
       "        vertical-align: top;\n",
       "    }\n",
       "\n",
       "    .dataframe thead th {\n",
       "        text-align: right;\n",
       "    }\n",
       "</style>\n",
       "<table border=\"1\" class=\"dataframe\">\n",
       "  <thead>\n",
       "    <tr style=\"text-align: right;\">\n",
       "      <th></th>\n",
       "      <th>Restaurant</th>\n",
       "      <th>Cuisines</th>\n",
       "      <th>Average_Cost</th>\n",
       "      <th>Minimum_Order</th>\n",
       "      <th>Rating</th>\n",
       "      <th>Votes</th>\n",
       "      <th>Reviews</th>\n",
       "      <th>Delivery_Time</th>\n",
       "    </tr>\n",
       "  </thead>\n",
       "  <tbody>\n",
       "    <tr>\n",
       "      <th>0</th>\n",
       "      <td>ID_6321</td>\n",
       "      <td>Fast Food, Rolls, Burger, Salad, Wraps</td>\n",
       "      <td>200</td>\n",
       "      <td>50</td>\n",
       "      <td>3.5</td>\n",
       "      <td>12</td>\n",
       "      <td>4</td>\n",
       "      <td>30</td>\n",
       "    </tr>\n",
       "    <tr>\n",
       "      <th>1</th>\n",
       "      <td>ID_2882</td>\n",
       "      <td>Ice Cream, Desserts</td>\n",
       "      <td>100</td>\n",
       "      <td>50</td>\n",
       "      <td>3.5</td>\n",
       "      <td>11</td>\n",
       "      <td>4</td>\n",
       "      <td>30</td>\n",
       "    </tr>\n",
       "    <tr>\n",
       "      <th>2</th>\n",
       "      <td>ID_1595</td>\n",
       "      <td>Italian, Street Food, Fast Food</td>\n",
       "      <td>150</td>\n",
       "      <td>50</td>\n",
       "      <td>3.6</td>\n",
       "      <td>99</td>\n",
       "      <td>30</td>\n",
       "      <td>65</td>\n",
       "    </tr>\n",
       "    <tr>\n",
       "      <th>3</th>\n",
       "      <td>ID_5929</td>\n",
       "      <td>Mughlai, North Indian, Chinese</td>\n",
       "      <td>250</td>\n",
       "      <td>99</td>\n",
       "      <td>3.7</td>\n",
       "      <td>176</td>\n",
       "      <td>95</td>\n",
       "      <td>30</td>\n",
       "    </tr>\n",
       "    <tr>\n",
       "      <th>4</th>\n",
       "      <td>ID_6123</td>\n",
       "      <td>Cafe, Beverages</td>\n",
       "      <td>200</td>\n",
       "      <td>99</td>\n",
       "      <td>3.2</td>\n",
       "      <td>521</td>\n",
       "      <td>235</td>\n",
       "      <td>65</td>\n",
       "    </tr>\n",
       "  </tbody>\n",
       "</table>\n",
       "</div>"
      ],
      "text/plain": [
       "  Restaurant                                Cuisines  Average_Cost  \\\n",
       "0    ID_6321  Fast Food, Rolls, Burger, Salad, Wraps           200   \n",
       "1    ID_2882                     Ice Cream, Desserts           100   \n",
       "2    ID_1595         Italian, Street Food, Fast Food           150   \n",
       "3    ID_5929          Mughlai, North Indian, Chinese           250   \n",
       "4    ID_6123                         Cafe, Beverages           200   \n",
       "\n",
       "   Minimum_Order  Rating  Votes  Reviews  Delivery_Time  \n",
       "0             50     3.5     12        4             30  \n",
       "1             50     3.5     11        4             30  \n",
       "2             50     3.6     99       30             65  \n",
       "3             99     3.7    176       95             30  \n",
       "4             99     3.2    521      235             65  "
      ]
     },
     "execution_count": 3,
     "metadata": {},
     "output_type": "execute_result"
    }
   ],
   "source": [
    "data.head()"
   ]
  },
  {
   "cell_type": "code",
   "execution_count": 4,
   "id": "e1770d81",
   "metadata": {
    "scrolled": true
   },
   "outputs": [
    {
     "name": "stdout",
     "output_type": "stream",
     "text": [
      "<class 'pandas.core.frame.DataFrame'>\n",
      "RangeIndex: 7772 entries, 0 to 7771\n",
      "Data columns (total 8 columns):\n",
      " #   Column         Non-Null Count  Dtype  \n",
      "---  ------         --------------  -----  \n",
      " 0   Restaurant     7772 non-null   object \n",
      " 1   Cuisines       7772 non-null   object \n",
      " 2   Average_Cost   7772 non-null   int64  \n",
      " 3   Minimum_Order  7772 non-null   int64  \n",
      " 4   Rating         7772 non-null   float64\n",
      " 5   Votes          7772 non-null   int64  \n",
      " 6   Reviews        7772 non-null   int64  \n",
      " 7   Delivery_Time  7772 non-null   int64  \n",
      "dtypes: float64(1), int64(5), object(2)\n",
      "memory usage: 485.9+ KB\n"
     ]
    }
   ],
   "source": [
    "data.info()"
   ]
  },
  {
   "cell_type": "code",
   "execution_count": 5,
   "id": "44bf54b9",
   "metadata": {},
   "outputs": [
    {
     "data": {
      "text/plain": [
       "(7772, 6)"
      ]
     },
     "execution_count": 5,
     "metadata": {},
     "output_type": "execute_result"
    }
   ],
   "source": [
    "#Label encoding categorical variables\n",
    "from sklearn.preprocessing import LabelEncoder\n",
    "\n",
    "lb_make = LabelEncoder()\n",
    "data['Restaurant_Code'] = lb_make.fit_transform(data['Restaurant'])\n",
    "\n",
    "#Check that encoding is correct \n",
    "#data.loc[data.duplicated(subset=['Restaurant_Code'])].sort_values(by=['Restaurant_Code'])\n",
    "\n",
    "# creates X & Y\n",
    "x_e = data.drop(columns = ['Delivery_Time','Restaurant','Cuisines'])\n",
    "y_e = data.Delivery_Time\n",
    "\n",
    "x_e.shape"
   ]
  },
  {
   "cell_type": "code",
   "execution_count": 6,
   "id": "60279820",
   "metadata": {},
   "outputs": [
    {
     "data": {
      "text/plain": [
       "(7772, 18)"
      ]
     },
     "execution_count": 6,
     "metadata": {},
     "output_type": "execute_result"
    }
   ],
   "source": [
    "#Binary encoding\n",
    "import category_encoders as ce\n",
    "\n",
    "encoder = ce.BinaryEncoder(cols=['Restaurant_Code'])\n",
    "\n",
    "x_b = encoder.fit_transform(x_e)#.drop(columns='Restaurant_Code')\n",
    "\n",
    "x_b.shape"
   ]
  },
  {
   "cell_type": "markdown",
   "id": "d644ba5c",
   "metadata": {},
   "source": [
    "## Bagging (Bootstrap Aggregation)"
   ]
  },
  {
   "cell_type": "markdown",
   "id": "f3f33de2",
   "metadata": {},
   "source": [
    "### Decision Trees & Bagged Decision Trees"
   ]
  },
  {
   "cell_type": "code",
   "execution_count": 7,
   "id": "8d33bd91",
   "metadata": {},
   "outputs": [],
   "source": [
    "from sklearn.tree import DecisionTreeRegressor\n",
    "from sklearn.ensemble import BaggingRegressor\n",
    "\n",
    "from sklearn.model_selection import cross_val_score\n",
    "\n",
    "seed = 123"
   ]
  },
  {
   "cell_type": "code",
   "execution_count": 8,
   "id": "7220dbbd",
   "metadata": {},
   "outputs": [],
   "source": [
    "#Decision Tree Regressor\n",
    "dtr = DecisionTreeRegressor(random_state = seed)\n",
    "\n",
    "model_dtr = dtr.fit(x_b,y_e)"
   ]
  },
  {
   "cell_type": "code",
   "execution_count": 9,
   "id": "e8b95907",
   "metadata": {},
   "outputs": [],
   "source": [
    "#Bagging Resgressor\n",
    "bdtr = BaggingRegressor(base_estimator = dtr, n_estimators = 200, random_state = seed)\n",
    "\n",
    "model_bdtr = bdtr.fit(x_b,y_e)"
   ]
  },
  {
   "cell_type": "code",
   "execution_count": 10,
   "id": "a23280ff",
   "metadata": {},
   "outputs": [],
   "source": [
    "#Validation\n",
    "\n",
    "metric = 'neg_root_mean_squared_error'\n",
    "\n",
    "kfold_dtr = cross_val_score(dtr ,x_b ,y_e ,cv = 10, n_jobs = -1,scoring = metric)\n",
    "kfold_bdtr = cross_val_score(bdtr ,x_b ,y_e ,cv = 10, n_jobs = -1, scoring = metric)"
   ]
  },
  {
   "cell_type": "code",
   "execution_count": 11,
   "id": "d542b438",
   "metadata": {},
   "outputs": [
    {
     "name": "stdout",
     "output_type": "stream",
     "text": [
      "Decision Tree Regressor RMSE: 14.483706499340173\n",
      "Bagged Decision Tree Regressor RMSE: 10.08080889993642\n",
      "Average Delivery Time 36.99408131755018\n"
     ]
    }
   ],
   "source": [
    "#Metric results\n",
    "\n",
    "print('Decision Tree Regressor RMSE:',np.absolute(kfold_dtr.mean()))\n",
    "\n",
    "print('Bagged Decision Tree Regressor RMSE:',np.absolute(kfold_bdtr.mean()))\n",
    "\n",
    "print('Average Delivery Time', y_e.mean())"
   ]
  },
  {
   "cell_type": "markdown",
   "id": "7aea5980",
   "metadata": {},
   "source": [
    "### Random Forest"
   ]
  },
  {
   "cell_type": "code",
   "execution_count": 12,
   "id": "5782570e",
   "metadata": {},
   "outputs": [],
   "source": [
    "from sklearn.ensemble import RandomForestRegressor\n",
    "\n",
    "seed = 123"
   ]
  },
  {
   "cell_type": "code",
   "execution_count": 13,
   "id": "93a95ea0",
   "metadata": {},
   "outputs": [],
   "source": [
    "rfr = RandomForestRegressor(n_estimators = 500, random_state = seed, max_features = 'log2')\n",
    "\n",
    "model_rfr = rfr.fit(x_e,y_e)"
   ]
  },
  {
   "cell_type": "code",
   "execution_count": 14,
   "id": "772ffe4a",
   "metadata": {},
   "outputs": [],
   "source": [
    "#Validation\n",
    "\n",
    "metric = 'neg_root_mean_squared_error'\n",
    "\n",
    "kfold_rfr = cross_val_score(rfr ,x_e ,y_e ,cv = 10, n_jobs = -1, scoring = metric)"
   ]
  },
  {
   "cell_type": "code",
   "execution_count": 15,
   "id": "9c543bcf",
   "metadata": {},
   "outputs": [
    {
     "name": "stdout",
     "output_type": "stream",
     "text": [
      "Decision Tree Regressor RMSE: 14.483706499340173\n",
      "Bagged Decision Tree Regressor RMSE: 10.08080889993642\n",
      "Random Forest RMSE: 10.05831852514086\n",
      "Average Delivery Time 36.99408131755018\n"
     ]
    }
   ],
   "source": [
    "#Metric results\n",
    "\n",
    "print('Decision Tree Regressor RMSE:',np.absolute(kfold_dtr.mean()))\n",
    "\n",
    "print('Bagged Decision Tree Regressor RMSE:',np.absolute(kfold_bdtr.mean()))\n",
    "\n",
    "print('Random Forest RMSE:',np.absolute(kfold_rfr.mean()))\n",
    "\n",
    "print('Average Delivery Time', y_e.mean())"
   ]
  },
  {
   "cell_type": "markdown",
   "id": "35365aad",
   "metadata": {},
   "source": [
    "### Extra Trees"
   ]
  },
  {
   "cell_type": "code",
   "execution_count": 16,
   "id": "3b357e40",
   "metadata": {},
   "outputs": [],
   "source": [
    "from sklearn.ensemble import ExtraTreesRegressor\n",
    "\n",
    "seed = 123"
   ]
  },
  {
   "cell_type": "code",
   "execution_count": 17,
   "id": "50142de2",
   "metadata": {},
   "outputs": [],
   "source": [
    "etr = ExtraTreesRegressor(n_estimators = 500, random_state = seed, max_features = 'log2')\n",
    "\n",
    "model_etr = etr.fit(x_b,y_e)"
   ]
  },
  {
   "cell_type": "code",
   "execution_count": 18,
   "id": "11465a21",
   "metadata": {},
   "outputs": [],
   "source": [
    "#Validation\n",
    "\n",
    "metric = 'neg_root_mean_squared_error'\n",
    "\n",
    "kfold_etr = cross_val_score(etr ,x_b ,y_e ,cv = 10, n_jobs = -1, scoring = metric)"
   ]
  },
  {
   "cell_type": "code",
   "execution_count": 19,
   "id": "0e477b82",
   "metadata": {},
   "outputs": [
    {
     "name": "stdout",
     "output_type": "stream",
     "text": [
      "Decision Tree Regressor RMSE: 14.483706499340173\n",
      "Bagged Decision Tree Regressor RMSE: 10.08080889993642\n",
      "Random Forest RMSE: 10.05831852514086\n",
      "Extra Trees RMSE: 10.006464084286314\n",
      "Average Delivery Time 36.99408131755018\n"
     ]
    }
   ],
   "source": [
    "#Metric results\n",
    "\n",
    "print('Decision Tree Regressor RMSE:',np.absolute(kfold_dtr.mean()))\n",
    "\n",
    "print('Bagged Decision Tree Regressor RMSE:',np.absolute(kfold_bdtr.mean()))\n",
    "\n",
    "print('Random Forest RMSE:',np.absolute(kfold_rfr.mean()))\n",
    "\n",
    "print('Extra Trees RMSE:',np.absolute(kfold_etr.mean()))\n",
    "\n",
    "print('Average Delivery Time', y_e.mean())"
   ]
  },
  {
   "cell_type": "markdown",
   "id": "9ded978e",
   "metadata": {},
   "source": [
    "## Boosting"
   ]
  },
  {
   "cell_type": "markdown",
   "id": "205fa9a1",
   "metadata": {},
   "source": [
    "### Adaboost"
   ]
  },
  {
   "cell_type": "markdown",
   "id": "aaf50859",
   "metadata": {},
   "source": [
    "#### Sensitive to outliers - Outliers need to be handled."
   ]
  },
  {
   "cell_type": "code",
   "execution_count": 20,
   "id": "9319bd95",
   "metadata": {},
   "outputs": [],
   "source": [
    "from feature_engine.outliers import Winsorizer\n",
    "\n",
    "import matplotlib.pyplot as plt"
   ]
  },
  {
   "cell_type": "code",
   "execution_count": 21,
   "id": "a88e152b",
   "metadata": {
    "scrolled": false
   },
   "outputs": [
    {
     "data": {
      "image/png": "[encoded data removed]",
      "text/plain": [
       "<Figure size 864x864 with 20 Axes>"
      ]
     },
     "metadata": {
      "needs_background": "light"
     },
     "output_type": "display_data"
    }
   ],
   "source": [
    "x_b.hist(bins=18, figsize=(12,12))\n",
    "plt.show()"
   ]
  },
  {
   "cell_type": "code",
   "execution_count": 22,
   "id": "7986991e",
   "metadata": {
    "scrolled": false
   },
   "outputs": [
    {
     "data": {
      "image/png": "[encoded data removed]",
      "text/plain": [
       "<Figure size 360x360 with 1 Axes>"
      ]
     },
     "metadata": {
      "needs_background": "light"
     },
     "output_type": "display_data"
    }
   ],
   "source": [
    "y_e.hist(bins=5 ,figsize=(5,5))\n",
    "plt.show()"
   ]
  },
  {
   "cell_type": "code",
   "execution_count": 23,
   "id": "66687d22",
   "metadata": {},
   "outputs": [],
   "source": [
    "xWinsorizer = Winsorizer( capping_method = 'iqr',\n",
    "            tail = 'both',\n",
    "            fold = 1.5\n",
    "            ,variables = ['Average_Cost', 'Minimum_Order','Rating', 'Votes', 'Reviews'])\n",
    "\n",
    "yWinsorizer = Winsorizer( capping_method = 'iqr',\n",
    "            tail = 'right',\n",
    "            fold = 1.5\n",
    "            ,variables = 'Delivery_Time')"
   ]
  },
  {
   "cell_type": "code",
   "execution_count": 24,
   "id": "878e3164",
   "metadata": {
    "scrolled": true
   },
   "outputs": [],
   "source": [
    "x_wo = xWinsorizer.fit_transform(x_b)\n",
    "y_wo = yWinsorizer.fit_transform(y_e.to_frame())"
   ]
  },
  {
   "cell_type": "code",
   "execution_count": 25,
   "id": "0eef6c29",
   "metadata": {
    "scrolled": false
   },
   "outputs": [
    {
     "data": {
      "image/png": "[encoded data removed]",
      "text/plain": [
       "<Figure size 864x864 with 20 Axes>"
      ]
     },
     "metadata": {
      "needs_background": "light"
     },
     "output_type": "display_data"
    }
   ],
   "source": [
    "x_wo.hist(bins=18, figsize=(12,12))\n",
    "plt.show()"
   ]
  },
  {
   "cell_type": "code",
   "execution_count": 26,
   "id": "c6f71963",
   "metadata": {
    "scrolled": true
   },
   "outputs": [
    {
     "data": {
      "image/png": "[encoded data removed]",
      "text/plain": [
       "<Figure size 360x360 with 1 Axes>"
      ]
     },
     "metadata": {
      "needs_background": "light"
     },
     "output_type": "display_data"
    }
   ],
   "source": [
    "y_wo.hist(bins=5,figsize=(5,5))\n",
    "plt.show()"
   ]
  },
  {
   "cell_type": "code",
   "execution_count": 27,
   "id": "cc1bcec5",
   "metadata": {},
   "outputs": [
    {
     "data": {
      "text/plain": [
       "<AxesSubplot:>"
      ]
     },
     "execution_count": 27,
     "metadata": {},
     "output_type": "execute_result"
    },
    {
     "data": {
      "image/png": "[encoded data removed]",
      "text/plain": [
       "<Figure size 1080x288 with 1 Axes>"
      ]
     },
     "metadata": {},
     "output_type": "display_data"
    }
   ],
   "source": [
    "import seaborn as sns; sns.set_theme()\n",
    "sns.set(rc = {'figure.figsize':(15,4)})\n",
    "sns.boxplot(data = x_wo[['Average_Cost', 'Minimum_Order','Rating', 'Votes', 'Reviews']] )"
   ]
  },
  {
   "cell_type": "code",
   "execution_count": 28,
   "id": "baf09fbd",
   "metadata": {},
   "outputs": [
    {
     "data": {
      "text/plain": [
       "False"
      ]
     },
     "execution_count": 28,
     "metadata": {},
     "output_type": "execute_result"
    }
   ],
   "source": [
    "#Check if there are any nulls\n",
    "x_wo.isnull().values.any()"
   ]
  },
  {
   "cell_type": "code",
   "execution_count": 29,
   "id": "d3abb64a",
   "metadata": {},
   "outputs": [],
   "source": [
    "from sklearn.ensemble import AdaBoostRegressor\n",
    "\n",
    "seed = 123"
   ]
  },
  {
   "cell_type": "code",
   "execution_count": 30,
   "id": "6a31163e",
   "metadata": {},
   "outputs": [],
   "source": [
    "abr = AdaBoostRegressor(n_estimators = 500, random_state = seed)\n",
    "\n",
    "model_abr = etr.fit(x_wo,y_wo.Delivery_Time)"
   ]
  },
  {
   "cell_type": "code",
   "execution_count": 31,
   "id": "21e8ba6d",
   "metadata": {},
   "outputs": [],
   "source": [
    "#Validation\n",
    "\n",
    "metric = 'neg_root_mean_squared_error'\n",
    "\n",
    "kfold_abr = cross_val_score(abr ,x_wo ,y_wo ,cv = 10, n_jobs = -1, scoring = metric)"
   ]
  },
  {
   "cell_type": "code",
   "execution_count": 32,
   "id": "18559a49",
   "metadata": {},
   "outputs": [
    {
     "name": "stdout",
     "output_type": "stream",
     "text": [
      "Decision Tree Regressor RMSE: 14.483706499340173\n",
      "Bagged Decision Tree Regressor RMSE: 10.08080889993642\n",
      "Random Forest RMSE: 10.05831852514086\n",
      "Extra Trees RMSE: 10.006464084286314\n",
      "Adaboost RMSE: 10.98613282901783\n",
      "Average Delivery Time 36.99408131755018\n"
     ]
    }
   ],
   "source": [
    "#Metric results\n",
    "\n",
    "print('Decision Tree Regressor RMSE:',np.absolute(kfold_dtr.mean()))\n",
    "\n",
    "print('Bagged Decision Tree Regressor RMSE:',np.absolute(kfold_bdtr.mean()))\n",
    "\n",
    "print('Random Forest RMSE:',np.absolute(kfold_rfr.mean()))\n",
    "\n",
    "print('Extra Trees RMSE:',np.absolute(kfold_etr.mean()))\n",
    "\n",
    "print('Adaboost RMSE:',np.absolute(kfold_abr.mean()))\n",
    "\n",
    "print('Average Delivery Time', y_e.mean())"
   ]
  },
  {
   "cell_type": "markdown",
   "id": "1c5326e9",
   "metadata": {},
   "source": [
    "### Stochastic Gradient Boosting"
   ]
  },
  {
   "cell_type": "code",
   "execution_count": 33,
   "id": "06bba663",
   "metadata": {},
   "outputs": [],
   "source": [
    "from sklearn.ensemble import GradientBoostingRegressor\n",
    "\n",
    "seed = 123"
   ]
  },
  {
   "cell_type": "code",
   "execution_count": 34,
   "id": "0bd1dfb8",
   "metadata": {},
   "outputs": [],
   "source": [
    "gbr = GradientBoostingRegressor(n_estimators = 500, max_features = 'log2',random_state = seed)\n",
    "\n",
    "model_gbr = gbr.fit(x_b,y_e)"
   ]
  },
  {
   "cell_type": "code",
   "execution_count": 35,
   "id": "573c1af1",
   "metadata": {},
   "outputs": [],
   "source": [
    "#Validation\n",
    "\n",
    "metric = 'neg_root_mean_squared_error'\n",
    "\n",
    "kfold_gbr = cross_val_score(gbr ,x_b ,y_e ,cv = 10, n_jobs = -1, scoring = metric)"
   ]
  },
  {
   "cell_type": "code",
   "execution_count": 36,
   "id": "79ebb130",
   "metadata": {},
   "outputs": [
    {
     "name": "stdout",
     "output_type": "stream",
     "text": [
      "Decision Tree Regressor RMSE: 14.483706499340173\n",
      "Bagged Decision Tree Regressor RMSE: 10.08080889993642\n",
      "Random Forest RMSE: 10.05831852514086\n",
      "Extra Trees RMSE: 10.006464084286314\n",
      "Adaboost RMSE: 10.98613282901783\n",
      "Gradient Boost RMSE: 9.928151146094898\n",
      "Average Delivery Time 36.99408131755018\n"
     ]
    }
   ],
   "source": [
    "#Metric results\n",
    "\n",
    "print('Decision Tree Regressor RMSE:',np.absolute(kfold_dtr.mean()))\n",
    "\n",
    "print('Bagged Decision Tree Regressor RMSE:',np.absolute(kfold_bdtr.mean()))\n",
    "\n",
    "print('Random Forest RMSE:',np.absolute(kfold_rfr.mean()))\n",
    "\n",
    "print('Extra Trees RMSE:',np.absolute(kfold_etr.mean()))\n",
    "\n",
    "print('Adaboost RMSE:',np.absolute(kfold_abr.mean()))\n",
    "\n",
    "print('Gradient Boost RMSE:',np.absolute(kfold_gbr.mean()))\n",
    "\n",
    "print('Average Delivery Time', y_e.mean())"
   ]
  },
  {
   "cell_type": "markdown",
   "id": "dcccb6af",
   "metadata": {},
   "source": [
    "### XGBoost"
   ]
  },
  {
   "cell_type": "code",
   "execution_count": 37,
   "id": "75e7b062",
   "metadata": {},
   "outputs": [],
   "source": [
    "from xgboost import XGBRegressor, plot_importance\n",
    "\n",
    "seed = 123"
   ]
  },
  {
   "cell_type": "code",
   "execution_count": 38,
   "id": "d82ebc8e",
   "metadata": {},
   "outputs": [],
   "source": [
    "XGBr = XGBRegressor(random_state = seed)\n",
    "\n",
    "model_XGBr = XGBr.fit(x_b ,y_e)"
   ]
  },
  {
   "cell_type": "code",
   "execution_count": 39,
   "id": "21ab5d3d",
   "metadata": {},
   "outputs": [],
   "source": [
    "#Validation\n",
    "\n",
    "metric = 'neg_root_mean_squared_error'\n",
    "\n",
    "kfold_XGBr = cross_val_score(XGBr ,x_b ,y_e ,cv = 10, n_jobs = -1, scoring = metric)"
   ]
  },
  {
   "cell_type": "code",
   "execution_count": 40,
   "id": "331be0b6",
   "metadata": {},
   "outputs": [
    {
     "name": "stdout",
     "output_type": "stream",
     "text": [
      "XGB RMSE: 10.445831240484889\n"
     ]
    }
   ],
   "source": [
    "#Validation\n",
    "\n",
    "print('XGB RMSE:',np.absolute(kfold_XGBr.mean()))"
   ]
  },
  {
   "cell_type": "markdown",
   "id": "fe0a5094",
   "metadata": {},
   "source": [
    "#### Tuning XGBoost"
   ]
  },
  {
   "cell_type": "code",
   "execution_count": 41,
   "id": "f6265d58",
   "metadata": {},
   "outputs": [],
   "source": [
    "n_trees = range(50, 500, 50)\n",
    "\n",
    "max_depth = range(1,4)"
   ]
  },
  {
   "cell_type": "code",
   "execution_count": 42,
   "id": "0ae143fe",
   "metadata": {},
   "outputs": [],
   "source": [
    "params_to_search = dict(n_estimators = n_trees, max_depth = max_depth)"
   ]
  },
  {
   "cell_type": "code",
   "execution_count": 43,
   "id": "ca29243b",
   "metadata": {},
   "outputs": [],
   "source": [
    "# Grid Search\n",
    "from sklearn import model_selection\n",
    "\n",
    "grid_search = model_selection.GridSearchCV(XGBr,params_to_search\n",
    "                                           , scoring = 'neg_root_mean_squared_error', n_jobs = -1, cv = 10)"
   ]
  },
  {
   "cell_type": "code",
   "execution_count": 44,
   "id": "79d64550",
   "metadata": {},
   "outputs": [],
   "source": [
    "grid_results = grid_search.fit(x_b ,y_e)"
   ]
  },
  {
   "cell_type": "code",
   "execution_count": 45,
   "id": "05e85831",
   "metadata": {
    "scrolled": true
   },
   "outputs": [
    {
     "data": {
      "text/plain": [
       "{'max_depth': 2, 'n_estimators': 50}"
      ]
     },
     "execution_count": 45,
     "metadata": {},
     "output_type": "execute_result"
    }
   ],
   "source": [
    "grid_results.best_params_"
   ]
  },
  {
   "cell_type": "code",
   "execution_count": 46,
   "id": "6c1e1150",
   "metadata": {},
   "outputs": [
    {
     "data": {
      "text/plain": [
       "array([ 9.90210071,  9.8817455 ,  9.87785723,  9.87324794,  9.87212466,\n",
       "        9.87236166,  9.87136434,  9.87131788,  9.8719465 ,  9.8632115 ,\n",
       "        9.88791932,  9.90589931,  9.94156729,  9.97002254, 10.00987026,\n",
       "       10.03398434, 10.04395168, 10.07123108,  9.90059148,  9.96869628,\n",
       "       10.04149006, 10.10705422, 10.1555051 , 10.23009971, 10.28579977,\n",
       "       10.32835068, 10.37756399])"
      ]
     },
     "execution_count": 46,
     "metadata": {},
     "output_type": "execute_result"
    }
   ],
   "source": [
    "np.absolute(grid_results.cv_results_['mean_test_score'])"
   ]
  },
  {
   "cell_type": "code",
   "execution_count": 47,
   "id": "b7d15130",
   "metadata": {},
   "outputs": [
    {
     "data": {
      "text/plain": [
       "[{'max_depth': 1, 'n_estimators': 50},\n",
       " {'max_depth': 1, 'n_estimators': 100},\n",
       " {'max_depth': 1, 'n_estimators': 150},\n",
       " {'max_depth': 1, 'n_estimators': 200},\n",
       " {'max_depth': 1, 'n_estimators': 250},\n",
       " {'max_depth': 1, 'n_estimators': 300},\n",
       " {'max_depth': 1, 'n_estimators': 350},\n",
       " {'max_depth': 1, 'n_estimators': 400},\n",
       " {'max_depth': 1, 'n_estimators': 450},\n",
       " {'max_depth': 2, 'n_estimators': 50},\n",
       " {'max_depth': 2, 'n_estimators': 100},\n",
       " {'max_depth': 2, 'n_estimators': 150},\n",
       " {'max_depth': 2, 'n_estimators': 200},\n",
       " {'max_depth': 2, 'n_estimators': 250},\n",
       " {'max_depth': 2, 'n_estimators': 300},\n",
       " {'max_depth': 2, 'n_estimators': 350},\n",
       " {'max_depth': 2, 'n_estimators': 400},\n",
       " {'max_depth': 2, 'n_estimators': 450},\n",
       " {'max_depth': 3, 'n_estimators': 50},\n",
       " {'max_depth': 3, 'n_estimators': 100},\n",
       " {'max_depth': 3, 'n_estimators': 150},\n",
       " {'max_depth': 3, 'n_estimators': 200},\n",
       " {'max_depth': 3, 'n_estimators': 250},\n",
       " {'max_depth': 3, 'n_estimators': 300},\n",
       " {'max_depth': 3, 'n_estimators': 350},\n",
       " {'max_depth': 3, 'n_estimators': 400},\n",
       " {'max_depth': 3, 'n_estimators': 450}]"
      ]
     },
     "execution_count": 47,
     "metadata": {},
     "output_type": "execute_result"
    }
   ],
   "source": [
    "grid_results.cv_results_['params']"
   ]
  },
  {
   "cell_type": "code",
   "execution_count": 70,
   "id": "a2e5fa37",
   "metadata": {},
   "outputs": [],
   "source": [
    "# Finding best learning rate\n",
    "\n",
    "learn_rate = [0.0001,0.001,0.01,0.1,0.2,0.3]"
   ]
  },
  {
   "cell_type": "code",
   "execution_count": 71,
   "id": "e391f62a",
   "metadata": {},
   "outputs": [],
   "source": [
    "params_to_search = dict(learning_rate = learn_rate)"
   ]
  },
  {
   "cell_type": "code",
   "execution_count": 72,
   "id": "f5eb24ae",
   "metadata": {},
   "outputs": [],
   "source": [
    "grid_search = model_selection.GridSearchCV(XGBr,params_to_search\n",
    "                                           , scoring = 'neg_root_mean_squared_error', n_jobs = -1, cv = 10)"
   ]
  },
  {
   "cell_type": "code",
   "execution_count": 73,
   "id": "e6f6c918",
   "metadata": {},
   "outputs": [],
   "source": [
    "grid_resutls = grid_search.fit(x_b,y_e)"
   ]
  },
  {
   "cell_type": "code",
   "execution_count": 76,
   "id": "eabd2ecb",
   "metadata": {},
   "outputs": [
    {
     "data": {
      "text/plain": [
       "{'learning_rate': 0.2}"
      ]
     },
     "execution_count": 76,
     "metadata": {},
     "output_type": "execute_result"
    }
   ],
   "source": [
    "grid_resutls.best_params_"
   ]
  },
  {
   "cell_type": "code",
   "execution_count": 98,
   "id": "036035d6",
   "metadata": {},
   "outputs": [],
   "source": [
    "# set up mdel again with new parasm\n",
    "\n",
    "n_trees = 50\n",
    "\n",
    "max_depth = 2\n",
    "\n",
    "learning_rate = 0.2\n",
    "\n",
    "XGBr = XGBRegressor(max_depth = max_depth, n_estimators = n_trees, learning_rate = 0.2,  random_state = seed)\n",
    "\n",
    "model_XGBr = XGBr.fit(x_b ,y_e)"
   ]
  },
  {
   "cell_type": "code",
   "execution_count": 99,
   "id": "9a6755e0",
   "metadata": {},
   "outputs": [],
   "source": [
    "#Validation\n",
    "\n",
    "metric = 'neg_root_mean_squared_error'\n",
    "\n",
    "kfold_XGBr = cross_val_score(XGBr ,x_b ,y_e ,cv = 10, n_jobs = -1, scoring = metric)"
   ]
  },
  {
   "cell_type": "code",
   "execution_count": 100,
   "id": "24b4681d",
   "metadata": {},
   "outputs": [
    {
     "name": "stdout",
     "output_type": "stream",
     "text": [
      "XGB RMSE: 9.855789043835788\n"
     ]
    }
   ],
   "source": [
    "#Validation reults\n",
    "\n",
    "print('XGB RMSE:',np.absolute(kfold_XGBr.mean()))"
   ]
  },
  {
   "cell_type": "markdown",
   "id": "40a73742",
   "metadata": {},
   "source": [
    "#### XGBoost Feature Importance"
   ]
  },
  {
   "cell_type": "code",
   "execution_count": 53,
   "id": "0981dd94",
   "metadata": {},
   "outputs": [],
   "source": [
    "from numpy import sort"
   ]
  },
  {
   "cell_type": "code",
   "execution_count": 54,
   "id": "04cd1b0e",
   "metadata": {},
   "outputs": [
    {
     "data": {
      "image/png": "[encoded data removed]",
      "text/plain": [
       "<Figure size 720x720 with 1 Axes>"
      ]
     },
     "metadata": {},
     "output_type": "display_data"
    }
   ],
   "source": [
    "sorted_idx = model_XGBr.feature_importances_.argsort()\n",
    "plt.figure(figsize=(10,10))\n",
    "plt.barh(x_b.columns[sorted_idx], model_XGBr.feature_importances_[sorted_idx])\n",
    "plt.xlabel('XGBoost Feature Importance')\n",
    "plt.show()"
   ]
  },
  {
   "cell_type": "code",
   "execution_count": 101,
   "id": "800fd5ad",
   "metadata": {},
   "outputs": [
    {
     "name": "stdout",
     "output_type": "stream",
     "text": [
      "0.0 9.855789043835788\n",
      "0.0 9.855789043835788\n",
      "0.0 9.855789043835788\n",
      "0.0035650974605232477 9.849531895102288\n",
      "0.008373976685106754 9.849959733567376\n",
      "0.021294277161359787 9.84887228847188\n",
      "0.011763088405132294 9.852731431049433\n",
      "0.0 9.855789043835788\n",
      "0.017665347084403038 9.84660339561075\n",
      "0.014073937200009823 9.847727858858637\n",
      "0.02501719817519188 9.848314700564437\n",
      "0.0 9.855789043835788\n",
      "0.03583849221467972 9.847096667271796\n",
      "0.037729449570178986 9.862837287825903\n",
      "0.03134171664714813 9.848314700564437\n",
      "0.06350350379943848 9.860842848888074\n",
      "0.30487513542175293 9.99500863288829\n",
      "0.42495882511138916 10.190506831585745\n"
     ]
    }
   ],
   "source": [
    "from sklearn.feature_selection import SelectFromModel\n",
    "\n",
    "for i in model_XGBr.feature_importances_[sorted_idx]:\n",
    "    selected_model = SelectFromModel(model_XGBr, threshold = i, prefit = True)\n",
    "    selected_x = selected_model.transform(x_b)\n",
    "    selected_r = XGBRegressor(random_state = seed)\n",
    "    selected_r.fit(selected_x, y_e)\n",
    "    kfold = cross_val_score(XGBr ,selected_x ,y_e ,cv = 10, n_jobs = -1, scoring = metric)\n",
    "    print('{} {}'.format(i,np.absolute(kfold.mean())))"
   ]
  },
  {
   "cell_type": "markdown",
   "id": "1b4cc3f2",
   "metadata": {},
   "source": [
    "The first 10 features in order of importance, give the best rmse (9.8490)."
   ]
  },
  {
   "cell_type": "markdown",
   "id": "d7651721",
   "metadata": {},
   "source": [
    "### Voting"
   ]
  },
  {
   "cell_type": "code",
   "execution_count": 56,
   "id": "2811b409",
   "metadata": {},
   "outputs": [],
   "source": [
    "from sklearn.ensemble import GradientBoostingRegressor,RandomForestRegressor, VotingRegressor\n",
    "#from sklearn.tree import DecisionTreeRegressor\n",
    "\n",
    "seed = 123"
   ]
  },
  {
   "cell_type": "code",
   "execution_count": 102,
   "id": "89d508f5",
   "metadata": {},
   "outputs": [],
   "source": [
    "gbr = GradientBoostingRegressor(n_estimators = 500, max_features = 'log2',random_state = seed)\n",
    "\n",
    "rfr = RandomForestRegressor(n_estimators = 500, random_state = seed, max_features = 'log2')\n",
    "\n",
    "XGBr = XGBRegressor(max_depth = max_depth, n_estimators = n_trees, learning_rate = 0.2,  random_state = seed)\n",
    "\n",
    "vr = VotingRegressor([('gradboost',gbr),('ranforest',rfr),('XGBoost',XGBr)])"
   ]
  },
  {
   "cell_type": "code",
   "execution_count": 103,
   "id": "3c32e92d",
   "metadata": {},
   "outputs": [],
   "source": [
    "results_r = []\n",
    "models_r = [gbr,rfr,XGBr,vr]\n",
    "\n",
    "\n",
    "for r in models_r:\n",
    "    result = r.fit(x_e,y_e)\n",
    "    result_kfold = cross_val_score(r, x_b, y_e, cv = 10,n_jobs = -1, scoring = metric)\n",
    "    results_r.append(result_kfold )"
   ]
  },
  {
   "cell_type": "code",
   "execution_count": 104,
   "id": "ed0237f2",
   "metadata": {},
   "outputs": [],
   "source": [
    "#fit voting model\n",
    "\n",
    "model_vr = vr.fit(x_b,y_e)\n",
    "\n",
    "#Validation\n",
    "\n",
    "metric = 'neg_root_mean_squared_error'\n",
    "\n",
    "kfold_vr = cross_val_score(vr ,x_b ,y_e ,cv = 10, n_jobs = -1, scoring = metric)"
   ]
  },
  {
   "cell_type": "code",
   "execution_count": 105,
   "id": "c9dfc4eb",
   "metadata": {},
   "outputs": [
    {
     "name": "stdout",
     "output_type": "stream",
     "text": [
      "GradientBoostingRegressor(max_features='log2', n_estimators=500,\n",
      "                          random_state=123) 9.928151146094898\n",
      "RandomForestRegressor(max_features='log2', n_estimators=500, random_state=123) 9.82879320903814\n",
      "XGBRegressor(base_score=0.5, booster='gbtree', colsample_bylevel=1,\n",
      "             colsample_bynode=1, colsample_bytree=1, enable_categorical=False,\n",
      "             gamma=0, gpu_id=-1, importance_type=None,\n",
      "             interaction_constraints='', learning_rate=0.2, max_delta_step=0,\n",
      "             max_depth=2, min_child_weight=1, missing=nan,\n",
      "             monotone_constraints='()', n_estimators=50, n_jobs=8,\n",
      "             num_parallel_tree=1, predictor='auto', random_state=123,\n",
      "             reg_alpha=0, reg_lambda=1, scale_pos_weight=1, subsample=1,\n",
      "             tree_method='exact', validate_parameters=1, verbosity=None) 9.855789043835788\n",
      "VotingRegressor(estimators=[('gradboost',\n",
      "                             GradientBoostingRegressor(max_features='log2',\n",
      "                                                       n_estimators=500,\n",
      "                                                       random_state=123)),\n",
      "                            ('ranforest',\n",
      "                             RandomForestRegressor(max_features='log2',\n",
      "                                                   n_estimators=500,\n",
      "                                                   random_state=123)),\n",
      "                            ('XGBoost',\n",
      "                             XGBRegressor(base_score=0.5, booster='gbtree',\n",
      "                                          colsample_bylevel=1,\n",
      "                                          colsample_bynode=1,\n",
      "                                          colsample_bytree=1,\n",
      "                                          enable_categorical=Fal...\n",
      "                                          gpu_id=-1, importance_type=None,\n",
      "                                          interaction_constraints='',\n",
      "                                          learning_rate=0.2, max_delta_step=0,\n",
      "                                          max_depth=2, min_child_weight=1,\n",
      "                                          missing=nan,\n",
      "                                          monotone_constraints='()',\n",
      "                                          n_estimators=50, n_jobs=8,\n",
      "                                          num_parallel_tree=1, predictor='auto',\n",
      "                                          random_state=123, reg_alpha=0,\n",
      "                                          reg_lambda=1, scale_pos_weight=1,\n",
      "                                          subsample=1, tree_method='exact',\n",
      "                                          validate_parameters=1,\n",
      "                                          verbosity=None))]) 9.805022768229321\n"
     ]
    }
   ],
   "source": [
    "for i, rr in enumerate(results_r):\n",
    "    print(models_r[i],np.absolute(rr.mean()))"
   ]
  },
  {
   "cell_type": "markdown",
   "id": "d7a6db4c",
   "metadata": {},
   "source": [
    "### Stacking"
   ]
  },
  {
   "cell_type": "code",
   "execution_count": 61,
   "id": "0efd39fe",
   "metadata": {},
   "outputs": [],
   "source": [
    "from sklearn.ensemble import GradientBoostingRegressor,RandomForestRegressor\n",
    "from mlxtend.regressor import StackingRegressor\n",
    "from sklearn.svm import SVR\n",
    "from sklearn.linear_model import Lasso\n",
    "\n",
    "seed = 123"
   ]
  },
  {
   "cell_type": "code",
   "execution_count": 107,
   "id": "26e13a31",
   "metadata": {},
   "outputs": [],
   "source": [
    "gbr = GradientBoostingRegressor(n_estimators = 500, max_features = 'log2',random_state = seed)\n",
    "\n",
    "rfr = RandomForestRegressor(n_estimators = 500, random_state = seed, max_features = 'log2')\n",
    "\n",
    "XGBr = XGBRegressor(max_depth = max_depth, n_estimators = n_trees, learning_rate = 0.2,  random_state = seed)\n",
    "\n",
    "lr = Lasso(alpha=.9)\n",
    "\n",
    "sr = StackingRegressor(regressors = [gbr, rfr, XGBr], meta_regressor = lr)"
   ]
  },
  {
   "cell_type": "code",
   "execution_count": 108,
   "id": "7d73841b",
   "metadata": {},
   "outputs": [],
   "source": [
    "results_r = []\n",
    "models_r = [gbr,rfr,XGBr, sr]\n",
    "\n",
    "metric = 'neg_root_mean_squared_error'\n",
    "\n",
    "for r in models_r:\n",
    "    result = r.fit(x_b,y_e)\n",
    "    result_kfold = cross_val_score(r, x_b, y_e, cv = 10,n_jobs = -1, scoring = metric)\n",
    "    results_r.append(result_kfold )"
   ]
  },
  {
   "cell_type": "code",
   "execution_count": 109,
   "id": "25cb719d",
   "metadata": {},
   "outputs": [],
   "source": [
    "#fit stacked models\n",
    "\n",
    "model_sr = sr.fit(x_e,y_e)\n",
    "\n",
    "#Validation\n",
    "\n",
    "kfold_sr = cross_val_score(sr ,x_b ,y_e ,cv = 10, n_jobs = -1, scoring = metric)"
   ]
  },
  {
   "cell_type": "code",
   "execution_count": 110,
   "id": "b8020fe1",
   "metadata": {
    "scrolled": false
   },
   "outputs": [
    {
     "name": "stdout",
     "output_type": "stream",
     "text": [
      "GradientBoostingRegressor(max_features='log2', n_estimators=500,\n",
      "                          random_state=123) 9.928151146094898\n",
      "RandomForestRegressor(max_features='log2', n_estimators=500, random_state=123) 9.82879320903814\n",
      "XGBRegressor(base_score=0.5, booster='gbtree', colsample_bylevel=1,\n",
      "             colsample_bynode=1, colsample_bytree=1, enable_categorical=False,\n",
      "             gamma=0, gpu_id=-1, importance_type=None,\n",
      "             interaction_constraints='', learning_rate=0.2, max_delta_step=0,\n",
      "             max_depth=2, min_child_weight=1, missing=nan,\n",
      "             monotone_constraints='()', n_estimators=50, n_jobs=8,\n",
      "             num_parallel_tree=1, predictor='auto', random_state=123,\n",
      "             reg_alpha=0, reg_lambda=1, scale_pos_weight=1, subsample=1,\n",
      "             tree_method='exact', validate_parameters=1, verbosity=None) 9.855789043835788\n",
      "StackingRegressor(meta_regressor=Lasso(alpha=0.9),\n",
      "                  regressors=[GradientBoostingRegressor(max_features='log2',\n",
      "                                                        n_estimators=500,\n",
      "                                                        random_state=123),\n",
      "                              RandomForestRegressor(max_features='log2',\n",
      "                                                    n_estimators=500,\n",
      "                                                    random_state=123),\n",
      "                              XGBRegressor(base_score=0.5, booster='gbtree',\n",
      "                                           colsample_bylevel=1,\n",
      "                                           colsample_bynode=1,\n",
      "                                           colsample_bytree=1,\n",
      "                                           enable_categorical=False, ga...\n",
      "                                           gpu_id=-1, importance_type=None,\n",
      "                                           interaction_constraints='',\n",
      "                                           learning_rate=0.2, max_delta_step=0,\n",
      "                                           max_depth=2, min_child_weight=1,\n",
      "                                           missing=nan,\n",
      "                                           monotone_constraints='()',\n",
      "                                           n_estimators=50, n_jobs=8,\n",
      "                                           num_parallel_tree=1,\n",
      "                                           predictor='auto', random_state=123,\n",
      "                                           reg_alpha=0, reg_lambda=1,\n",
      "                                           scale_pos_weight=1, subsample=1,\n",
      "                                           tree_method='exact',\n",
      "                                           validate_parameters=1,\n",
      "                                           verbosity=None)]) 9.94865500937905\n"
     ]
    }
   ],
   "source": [
    "for i, rr in enumerate(results_r):\n",
    "    print(models_r[i],np.absolute(rr.mean()))"
   ]
  },
  {
   "cell_type": "markdown",
   "id": "54d71476",
   "metadata": {},
   "source": [
    "## Predictions"
   ]
  },
  {
   "cell_type": "code",
   "execution_count": 111,
   "id": "b6806663",
   "metadata": {},
   "outputs": [],
   "source": [
    "def predict(Average_Cost, Minimum_Order, Rating, Votes, Reviews, Restaurant_Code):\n",
    "    \n",
    "    x_df = x_e\n",
    "    \n",
    "    numpy_data = np.array([[Average_Cost, Minimum_Order, Rating, Votes, Reviews, Restaurant_Code]])\n",
    "    n_d = pd.DataFrame(data=numpy_data, columns=[ 'Average_Cost', 'Minimum_Order'\n",
    "                                                 ,'Rating','Votes', 'Reviews','Restaurant_Code'])\n",
    "    \n",
    "    df = x_df.append(n_d, ignore_index = True)\n",
    "    \n",
    "    encoder = ce.BinaryEncoder(cols=['Restaurant_Code'])\n",
    "\n",
    "    df = encoder.fit_transform(df)\n",
    "    \n",
    "    pred = df.iloc[len(df)-1].values.reshape(1,-1)\n",
    "       \n",
    "    prediction = model_vr.predict(pred) \n",
    "    \n",
    "    return print('Estimated Delivery Time:',prediction[0])"
   ]
  },
  {
   "cell_type": "code",
   "execution_count": 112,
   "id": "38400817",
   "metadata": {},
   "outputs": [
    {
     "name": "stdout",
     "output_type": "stream",
     "text": [
      "Estimated Delivery Time: 53.62676005600482\n"
     ]
    }
   ],
   "source": [
    "# Inputs: (Average_Cost, Minimum_Order, Rating, Votes, Reviews, Restaurant_Code)\n",
    "\n",
    "predict(200,99,3.2,521,235, 4376)"
   ]
  }
 ],
 "metadata": {
  "kernelspec": {
   "display_name": "Python 3",
   "language": "python",
   "name": "python3"
  },
  "language_info": {
   "codemirror_mode": {
    "name": "ipython",
    "version": 3
   },
   "file_extension": ".py",
   "mimetype": "text/x-python",
   "name": "python",
   "nbconvert_exporter": "python",
   "pygments_lexer": "ipython3",
   "version": "3.8.8"
  }
 },
 "nbformat": 4,
 "nbformat_minor": 5
}
